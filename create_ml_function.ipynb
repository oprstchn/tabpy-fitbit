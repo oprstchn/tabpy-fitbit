{
 "cells": [
  {
   "cell_type": "code",
   "execution_count": 2,
   "metadata": {},
   "outputs": [
    {
     "name": "stderr",
     "output_type": "stream",
     "text": [
      "/Users/ymasachika/.pyenv/versions/anaconda3-4.2.0/envs/tabpy/lib/python3.6/site-packages/statsmodels/compat/pandas.py:56: FutureWarning: The pandas.core.datetools module is deprecated and will be removed in a future version. Please use the pandas.tseries module instead.\n",
      "  from pandas.core import datetools\n"
     ]
    }
   ],
   "source": [
    "# create function\n",
    "import pandas as pd\n",
    "import numpy as np\n",
    "import changefinder\n",
    "import tabpy_client"
   ]
  },
  {
   "cell_type": "code",
   "execution_count": 3,
   "metadata": {
    "collapsed": true
   },
   "outputs": [],
   "source": [
    "# create client\n",
    "client = tabpy_client.Client('http://localhost:9004/')"
   ]
  },
  {
   "cell_type": "code",
   "execution_count": 60,
   "metadata": {
    "collapsed": true
   },
   "outputs": [],
   "source": [
    "# create changefinder\n",
    "def cf_func(data, r, order, smooth):\n",
    "    import changefinder\n",
    "    cf = changefinder.ChangeFinder(r=r[0], order=order[0], smooth=smooth[0])\n",
    "    ret = [cf.update(i) for i in data]\n",
    "    return ret\n",
    "\n",
    "client.deploy('cf_func',\n",
    "              cf_func,\n",
    "              'Returns change finder function',\n",
    "              override=True)"
   ]
  },
  {
   "cell_type": "code",
   "execution_count": 71,
   "metadata": {
    "collapsed": true
   },
   "outputs": [],
   "source": [
    "# create kmenas function\n",
    "def kmeans_func(n_clus, rstat, *args):\n",
    "    import pandas as pd\n",
    "    import numpy as np\n",
    "    import numpy as np\n",
    "    from sklearn.cluster import KMeans\n",
    "    \n",
    "    df = pd.DataFrame()\n",
    "    for arg in args:\n",
    "        df = pd.concat([df, pd.DataFrame(arg)] , axis=1)\n",
    "    X = df.as_matrix()\n",
    "    kmeans_model = KMeans(n_clusters=n_clus[0], random_state=rstat[0])\n",
    "    db = kmeans_model.fit(X)\n",
    "    return db.labels_.tolist()\n",
    "\n",
    "client.deploy('kmeans',\n",
    "              kmeans_func,\n",
    "              'Returns kmeans label',\n",
    "              override=True)"
   ]
  },
  {
   "cell_type": "code",
   "execution_count": 14,
   "metadata": {},
   "outputs": [],
   "source": [
    "def randomforest_func(n_estimators, label, test_size, *args):\n",
    "    from sklearn.ensemble import RandomForestClassifier\n",
    "    from sklearn.model_selection import train_test_split\n",
    "    import pandas as pd\n",
    "    import numpy as np\n",
    "    \n",
    "    # 引数をDataFrameにする\n",
    "    df = pd.DataFrame()\n",
    "    for arg in args:\n",
    "        df = pd.concat([df, pd.DataFrame(arg)] , axis=1)\n",
    "    X = df.as_matrix()\n",
    "    \n",
    "    # Split Train and Test data\n",
    "    X_train, X_test, y_train, y_test = train_test_split(X, label, test_size=test_size[0], random_state=71)\n",
    "    \n",
    "    clf = RandomForestClassifier(n_estimators=n_estimators[0])\n",
    "    clf.fit(X_train,y_train)\n",
    "    yhat_train = clf.predict(X_train)\n",
    "    print(\"Train Accuracy: {0}\".format(sum(yhat_train == y_train) / len(y_train)))\n",
    "    \n",
    "    yhat_test = clf.predict(X_test)\n",
    "    print(\"Test Accuracy: {0}\".format(sum(yhat_test == y_test) / len(y_test)))\n",
    "    \n",
    "    result = clf.predict(X)\n",
    "    return result.tolist()\n",
    "\n",
    "client.deploy('randomforest',\n",
    "              randomforest_func,\n",
    "              'Returns predict label',\n",
    "              override=True)"
   ]
  },
  {
   "cell_type": "code",
   "execution_count": null,
   "metadata": {
    "collapsed": true
   },
   "outputs": [],
   "source": []
  }
 ],
 "metadata": {
  "kernelspec": {
   "display_name": "Python 3",
   "language": "python",
   "name": "python3"
  },
  "language_info": {
   "codemirror_mode": {
    "name": "ipython",
    "version": 3
   },
   "file_extension": ".py",
   "mimetype": "text/x-python",
   "name": "python",
   "nbconvert_exporter": "python",
   "pygments_lexer": "ipython3",
   "version": "3.6.1"
  }
 },
 "nbformat": 4,
 "nbformat_minor": 2
}
